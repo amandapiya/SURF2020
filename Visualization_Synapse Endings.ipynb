{
 "cells": [
  {
   "cell_type": "code",
   "execution_count": 2,
   "metadata": {},
   "outputs": [
    {
     "name": "stdout",
     "output_type": "stream",
     "text": [
      "importing Jupyter notebook from FitterMod.ipynb\n"
     ]
    }
   ],
   "source": [
    "import math\n",
    "import copy\n",
    "from tqdm import tqdm\n",
    "\n",
    "import numpy as np\n",
    "import pandas as pd\n",
    "\n",
    "import networkx as nx\n",
    "\n",
    "import matplotlib.pyplot as plt\n",
    "import plotly.offline\n",
    "import plotly.graph_objects as go\n",
    "from plotly.subplots import make_subplots\n",
    "\n",
    "from sbemdb import SBEMDB\n",
    "from cleandb import clean_db, clean_db_uct\n",
    "\n",
    "from distance import distance\n",
    "from findpath import find_path\n",
    "\n",
    "import import_ipynb\n",
    "from FitterMod import Fitter"
   ]
  },
  {
   "cell_type": "code",
   "execution_count": 3,
   "metadata": {},
   "outputs": [
    {
     "name": "stdout",
     "output_type": "stream",
     "text": [
      "trees Before 398\n",
      "trees After 46\n",
      "nodes Before 37481\n",
      "nodes After 16320\n",
      "nodecons Before 73994\n",
      "nodecons After 32548\n",
      "syncons Before 1199\n",
      "syncons After 826\n",
      "synapses Before 552\n",
      "synapses After 535\n"
     ]
    },
    {
     "data": {
      "text/plain": [
       "{1: 'Soma', 2: 'ExitPoint', 3: 'TreeNode', 5: 'PresynTerm', 6: 'PostsynTerm'}"
      ]
     },
     "execution_count": 3,
     "metadata": {},
     "output_type": "execute_result"
    }
   ],
   "source": [
    "db = SBEMDB() # connect to DB\n",
    "db = clean_db(db)\n",
    "db.nodetypes()"
   ]
  },
  {
   "cell_type": "code",
   "execution_count": 4,
   "metadata": {},
   "outputs": [
    {
     "data": {
      "text/html": [
       "<div>\n",
       "<style scoped>\n",
       "    .dataframe tbody tr th:only-of-type {\n",
       "        vertical-align: middle;\n",
       "    }\n",
       "\n",
       "    .dataframe tbody tr th {\n",
       "        vertical-align: top;\n",
       "    }\n",
       "\n",
       "    .dataframe thead th {\n",
       "        text-align: right;\n",
       "    }\n",
       "</style>\n",
       "<table border=\"1\" class=\"dataframe\">\n",
       "  <thead>\n",
       "    <tr style=\"text-align: right;\">\n",
       "      <th></th>\n",
       "      <th>segment_id</th>\n",
       "      <th>branch_id</th>\n",
       "      <th>type</th>\n",
       "      <th>depth</th>\n",
       "      <th>is_synapse</th>\n",
       "      <th>node_id</th>\n",
       "      <th>point_node_id</th>\n",
       "    </tr>\n",
       "  </thead>\n",
       "  <tbody>\n",
       "    <tr>\n",
       "      <th>0</th>\n",
       "      <td>0</td>\n",
       "      <td>2137</td>\n",
       "      <td>main</td>\n",
       "      <td>0</td>\n",
       "      <td>False</td>\n",
       "      <td>2137</td>\n",
       "      <td>2137</td>\n",
       "    </tr>\n",
       "    <tr>\n",
       "      <th>1</th>\n",
       "      <td>0</td>\n",
       "      <td>2137</td>\n",
       "      <td>main</td>\n",
       "      <td>0</td>\n",
       "      <td>False</td>\n",
       "      <td>3477</td>\n",
       "      <td>2137</td>\n",
       "    </tr>\n",
       "    <tr>\n",
       "      <th>2</th>\n",
       "      <td>0</td>\n",
       "      <td>2137</td>\n",
       "      <td>main</td>\n",
       "      <td>0</td>\n",
       "      <td>False</td>\n",
       "      <td>3478</td>\n",
       "      <td>3477</td>\n",
       "    </tr>\n",
       "    <tr>\n",
       "      <th>3</th>\n",
       "      <td>0</td>\n",
       "      <td>2137</td>\n",
       "      <td>main</td>\n",
       "      <td>0</td>\n",
       "      <td>False</td>\n",
       "      <td>3479</td>\n",
       "      <td>3478</td>\n",
       "    </tr>\n",
       "    <tr>\n",
       "      <th>4</th>\n",
       "      <td>0</td>\n",
       "      <td>2137</td>\n",
       "      <td>main</td>\n",
       "      <td>0</td>\n",
       "      <td>False</td>\n",
       "      <td>3480</td>\n",
       "      <td>3479</td>\n",
       "    </tr>\n",
       "  </tbody>\n",
       "</table>\n",
       "</div>"
      ],
      "text/plain": [
       "   segment_id  branch_id  type  depth  is_synapse  node_id  point_node_id\n",
       "0           0       2137  main      0       False     2137           2137\n",
       "1           0       2137  main      0       False     3477           2137\n",
       "2           0       2137  main      0       False     3478           3477\n",
       "3           0       2137  main      0       False     3479           3478\n",
       "4           0       2137  main      0       False     3480           3479"
      ]
     },
     "execution_count": 4,
     "metadata": {},
     "output_type": "execute_result"
    }
   ],
   "source": [
    "node_ids_db = list(db.nodeDetails('tid==444 and typ=6').keys())\n",
    "segments = pd.read_csv('segments_table.csv')\n",
    "segments.head()"
   ]
  },
  {
   "cell_type": "code",
   "execution_count": 5,
   "metadata": {},
   "outputs": [],
   "source": [
    "x, y, z, nid = db.nodexyz()\n",
    "\n",
    "coord_nid = {} # {(coords): nid}\n",
    "nid_coord = {} # {nid: (coords)}\n",
    "for i in range(len(x)):\n",
    "    coord_nid[(x[i], y[i], z[i])] = nid[i]\n",
    "    nid_coord[nid[i]] = (x[i], y[i], z[i])"
   ]
  },
  {
   "cell_type": "code",
   "execution_count": 6,
   "metadata": {},
   "outputs": [],
   "source": [
    "x,y,z = db.segments(444)\n",
    "\n",
    "G = nx.Graph() # graph of connected node ids given segments\n",
    "\n",
    "for i in range(len(x) - 1):\n",
    "    if not math.isnan(x[i]) and not math.isnan(x[i+1]):\n",
    "        G_nid1 = coord_nid[(x[i], y[i], z[i])]\n",
    "        G_nid2 = coord_nid[(x[i+1], y[i+1], z[i+1])]\n",
    "        G.add_edge(G_nid1, G_nid2, distance=distance(x[i], y[i], z[i], x[i+1], y[i+1], z[i+1]))"
   ]
  },
  {
   "cell_type": "code",
   "execution_count": 7,
   "metadata": {},
   "outputs": [],
   "source": [
    "def get_length(segment_id):\n",
    "    segment_nodes = segments[segments['segment_id'] == segment_id]\n",
    "    start_node = segment_nodes.iloc[-1]['node_id']\n",
    "    end_node = segment_nodes.iloc[0]['point_node_id']\n",
    "    length = nx.dijkstra_path_length(G, start_node, end_node, 'distance')\n",
    "    return length"
   ]
  },
  {
   "cell_type": "code",
   "execution_count": 8,
   "metadata": {},
   "outputs": [],
   "source": [
    "segment_ids = segments['segment_id'].unique()\n",
    "seg_n_synapses = {id: segments[segments['segment_id'] == id].drop_duplicates('node_id')['is_synapse'].sum() for id in segment_ids}\n",
    "seg_n_syn_terminal = [seg_n_synapses[seg_id] for seg_id in segments[segments['type'] == 'ts']['segment_id'].unique()]\n",
    "seg_n_syn_terminal_dict = {seg_id: seg_n_synapses[seg_id] for seg_id in segments[segments['type'] == 'ts']['segment_id'].unique()}\n",
    "total_syn = sum(seg_n_syn_terminal) # total number of synapses "
   ]
  },
  {
   "cell_type": "code",
   "execution_count": 9,
   "metadata": {},
   "outputs": [],
   "source": [
    "# get main data\n",
    "soma_x, soma_y, soma_z, soma_nid = db.nodexyz(f'tid=444 and typ=1')\n",
    "xx, yy, zz = db.segments(444)\n",
    "x, y, z, nid = db.nodexyz()\n",
    "\n",
    "node_coords = {nid: [x[i], y[i], z[i]] for i, nid in enumerate(nid)}"
   ]
  },
  {
   "cell_type": "markdown",
   "metadata": {},
   "source": [
    "# Distribution of Terminal Segments that contain a synapse on end edge"
   ]
  },
  {
   "cell_type": "code",
   "execution_count": 10,
   "metadata": {},
   "outputs": [],
   "source": [
    "syn_x, syn_y, syn_z, _tid, _, _sid, _pre_nid, _post_nid = db.synapses(f'post.tid=444', extended=True) "
   ]
  },
  {
   "cell_type": "code",
   "execution_count": 30,
   "metadata": {},
   "outputs": [],
   "source": [
    "ts_ids = segments[segments['type'] == 'ts']['segment_id'].unique()\n",
    "\n",
    "ts_lengths = []\n",
    "num_edges = []\n",
    "end_ts_synapses_node_ids = []\n",
    "\n",
    "ts_lengths_short = {} # dict of ts, length < 3\n",
    "\n",
    "ts_empty_lengths = {}\n",
    "end_ts_empty_node_ids = []\n",
    "\n",
    "for ts_id in ts_ids:\n",
    "    sub_data = segments[segments['segment_id'] == ts_id]\n",
    "    last_node = sub_data.iloc[-1]\n",
    "    length = get_length(ts_id)\n",
    "    if last_node['is_synapse']:\n",
    "        if length < 3:\n",
    "            ts_lengths_short[ts_id] = length\n",
    "        end_ts_synapses_node_ids.append(last_node['node_id'])\n",
    "        ts_lengths.append(length)\n",
    "        num_edges.append(len(sub_data))\n",
    "    else:\n",
    "        end_ts_empty_node_ids.append(last_node['node_id'])\n",
    "        ts_empty_lengths[ts_id] = length\n",
    "\n",
    "ts_lengths, num_edges = (list(t) for t in zip(*sorted(zip(ts_lengths, num_edges))))\n",
    "\n",
    "end_syn_node_x = syn_x[np.isin(_post_nid, end_ts_synapses_node_ids)]\n",
    "end_syn_node_y = syn_y[np.isin(_post_nid, end_ts_synapses_node_ids)]\n",
    "end_syn_node_z = syn_z[np.isin(_post_nid, end_ts_synapses_node_ids)]\n",
    "end_synapse_ids = _sid[np.isin(_post_nid, end_ts_synapses_node_ids)]"
   ]
  },
  {
   "cell_type": "code",
   "execution_count": 12,
   "metadata": {},
   "outputs": [
    {
     "data": {
      "image/png": "[encoded data removed]",
      "text/plain": [
       "<Figure size 432x288 with 1 Axes>"
      ]
     },
     "metadata": {
      "needs_background": "light"
     },
     "output_type": "display_data"
    }
   ],
   "source": [
    "np.warnings.filterwarnings('ignore')\n",
    "\n",
    "plt.hist(ts_lengths, bins=40)\n",
    "plt.xlabel(\"Length of Specific Terminal Segments (Microns)\")\n",
    "plt.ylabel(\"Frequency\")\n",
    "\n",
    "plt.axvline(np.percentile(ts_lengths, 10), color=\"green\", label='10%')\n",
    "plt.axvline(np.mean(ts_lengths), color=\"red\", label='Mean')\n",
    "plt.axvline(np.median(ts_lengths), color=\"orange\", label='Median')\n",
    "plt.legend();"
   ]
  },
  {
   "cell_type": "code",
   "execution_count": 13,
   "metadata": {},
   "outputs": [
    {
     "data": {
      "text/plain": [
       "'\\nplt.axvline(np.percentile(ts_lengths[:-1], 10), color=\"green\", label=\\'10%\\')\\nplt.axvline(np.mean(ts_lengths[:-1]), color=\"red\", label=\\'Mean\\')\\nplt.axvline(np.median(ts_lengths[:-1]), color=\"orange\", label=\\'Median\\')\\nplt.legend();\\n'"
      ]
     },
     "execution_count": 13,
     "metadata": {},
     "output_type": "execute_result"
    },
    {
     "data": {
      "image/png": "[encoded data removed]",
      "text/plain": [
       "<Figure size 1080x360 with 1 Axes>"
      ]
     },
     "metadata": {
      "needs_background": "light"
     },
     "output_type": "display_data"
    }
   ],
   "source": [
    "plt.figure(figsize=(15,5))\n",
    "plt.hist(ts_lengths[:-1], bins=520)\n",
    "plt.xlabel(\"Length of Specific Terminal Segments (Microns)\")\n",
    "plt.ylabel(\"Frequency\")\n",
    "plt.title(\"Terminal Segments, Frequency VS Length, No Outlier\")\n",
    "'''\n",
    "plt.axvline(np.percentile(ts_lengths[:-1], 10), color=\"green\", label='10%')\n",
    "plt.axvline(np.mean(ts_lengths[:-1]), color=\"red\", label='Mean')\n",
    "plt.axvline(np.median(ts_lengths[:-1]), color=\"orange\", label='Median')\n",
    "plt.legend();\n",
    "'''"
   ]
  },
  {
   "cell_type": "code",
   "execution_count": 14,
   "metadata": {},
   "outputs": [
    {
     "data": {
      "text/html": [
       "<div>\n",
       "<style scoped>\n",
       "    .dataframe tbody tr th:only-of-type {\n",
       "        vertical-align: middle;\n",
       "    }\n",
       "\n",
       "    .dataframe tbody tr th {\n",
       "        vertical-align: top;\n",
       "    }\n",
       "\n",
       "    .dataframe thead th {\n",
       "        text-align: right;\n",
       "    }\n",
       "</style>\n",
       "<table border=\"1\" class=\"dataframe\">\n",
       "  <thead>\n",
       "    <tr style=\"text-align: right;\">\n",
       "      <th></th>\n",
       "      <th>sumsquare_error</th>\n",
       "      <th>log_lik</th>\n",
       "      <th>max_lik</th>\n",
       "      <th>aic</th>\n",
       "      <th>bic</th>\n",
       "      <th>kl_div</th>\n",
       "    </tr>\n",
       "  </thead>\n",
       "  <tbody>\n",
       "    <tr>\n",
       "      <th>lognorm</th>\n",
       "      <td>0.007112</td>\n",
       "      <td>920.439264</td>\n",
       "      <td>inf</td>\n",
       "      <td>-1834.878529</td>\n",
       "      <td>-2451.711459</td>\n",
       "      <td>inf</td>\n",
       "    </tr>\n",
       "    <tr>\n",
       "      <th>expon</th>\n",
       "      <td>0.140032</td>\n",
       "      <td>2121.487437</td>\n",
       "      <td>inf</td>\n",
       "      <td>-4238.974874</td>\n",
       "      <td>-1750.909400</td>\n",
       "      <td>inf</td>\n",
       "    </tr>\n",
       "    <tr>\n",
       "      <th>exponpow</th>\n",
       "      <td>0.241712</td>\n",
       "      <td>1059.656633</td>\n",
       "      <td>inf</td>\n",
       "      <td>-2113.313266</td>\n",
       "      <td>-1616.068119</td>\n",
       "      <td>inf</td>\n",
       "    </tr>\n",
       "    <tr>\n",
       "      <th>gamma</th>\n",
       "      <td>0.816942</td>\n",
       "      <td>2485.122503</td>\n",
       "      <td>inf</td>\n",
       "      <td>-4964.245006</td>\n",
       "      <td>-1327.444525</td>\n",
       "      <td>inf</td>\n",
       "    </tr>\n",
       "  </tbody>\n",
       "</table>\n",
       "</div>"
      ],
      "text/plain": [
       "          sumsquare_error      log_lik  max_lik          aic          bic  \\\n",
       "lognorm          0.007112   920.439264      inf -1834.878529 -2451.711459   \n",
       "expon            0.140032  2121.487437      inf -4238.974874 -1750.909400   \n",
       "exponpow         0.241712  1059.656633      inf -2113.313266 -1616.068119   \n",
       "gamma            0.816942  2485.122503      inf -4964.245006 -1327.444525   \n",
       "\n",
       "          kl_div  \n",
       "lognorm      inf  \n",
       "expon        inf  \n",
       "exponpow     inf  \n",
       "gamma        inf  "
      ]
     },
     "execution_count": 14,
     "metadata": {},
     "output_type": "execute_result"
    },
    {
     "data": {
      "image/png": "[encoded data removed]",
      "text/plain": [
       "<Figure size 432x288 with 1 Axes>"
      ]
     },
     "metadata": {
      "needs_background": "light"
     },
     "output_type": "display_data"
    }
   ],
   "source": [
    "dist_ts_segments = Fitter(ts_lengths, distributions = \"common\", verbose=False)\n",
    "dist_ts_segments.fit()\n",
    "dist_ts_segments.summary()"
   ]
  },
  {
   "cell_type": "code",
   "execution_count": 15,
   "metadata": {
    "scrolled": false
   },
   "outputs": [
    {
     "data": {
      "text/html": [
       "<div>\n",
       "<style scoped>\n",
       "    .dataframe tbody tr th:only-of-type {\n",
       "        vertical-align: middle;\n",
       "    }\n",
       "\n",
       "    .dataframe tbody tr th {\n",
       "        vertical-align: top;\n",
       "    }\n",
       "\n",
       "    .dataframe thead th {\n",
       "        text-align: right;\n",
       "    }\n",
       "</style>\n",
       "<table border=\"1\" class=\"dataframe\">\n",
       "  <thead>\n",
       "    <tr style=\"text-align: right;\">\n",
       "      <th></th>\n",
       "      <th>sumsquare_error</th>\n",
       "      <th>log_lik</th>\n",
       "      <th>max_lik</th>\n",
       "      <th>aic</th>\n",
       "      <th>bic</th>\n",
       "      <th>kl_div</th>\n",
       "    </tr>\n",
       "  </thead>\n",
       "  <tbody>\n",
       "    <tr>\n",
       "      <th>lognorm</th>\n",
       "      <td>0.337146</td>\n",
       "      <td>459.662757</td>\n",
       "      <td>inf</td>\n",
       "      <td>-913.325513</td>\n",
       "      <td>-1529.661526</td>\n",
       "      <td>inf</td>\n",
       "    </tr>\n",
       "    <tr>\n",
       "      <th>expon</th>\n",
       "      <td>0.842259</td>\n",
       "      <td>552.076404</td>\n",
       "      <td>inf</td>\n",
       "      <td>-1100.152808</td>\n",
       "      <td>-1319.050197</td>\n",
       "      <td>inf</td>\n",
       "    </tr>\n",
       "    <tr>\n",
       "      <th>exponpow</th>\n",
       "      <td>1.524850</td>\n",
       "      <td>502.491892</td>\n",
       "      <td>inf</td>\n",
       "      <td>-998.983783</td>\n",
       "      <td>-1173.505273</td>\n",
       "      <td>inf</td>\n",
       "    </tr>\n",
       "    <tr>\n",
       "      <th>gamma</th>\n",
       "      <td>2.526885</td>\n",
       "      <td>578.899715</td>\n",
       "      <td>inf</td>\n",
       "      <td>-1151.799429</td>\n",
       "      <td>-1054.303780</td>\n",
       "      <td>inf</td>\n",
       "    </tr>\n",
       "  </tbody>\n",
       "</table>\n",
       "</div>"
      ],
      "text/plain": [
       "          sumsquare_error     log_lik  max_lik          aic          bic  \\\n",
       "lognorm          0.337146  459.662757      inf  -913.325513 -1529.661526   \n",
       "expon            0.842259  552.076404      inf -1100.152808 -1319.050197   \n",
       "exponpow         1.524850  502.491892      inf  -998.983783 -1173.505273   \n",
       "gamma            2.526885  578.899715      inf -1151.799429 -1054.303780   \n",
       "\n",
       "          kl_div  \n",
       "lognorm      inf  \n",
       "expon        inf  \n",
       "exponpow     inf  \n",
       "gamma        inf  "
      ]
     },
     "execution_count": 15,
     "metadata": {},
     "output_type": "execute_result"
    },
    {
     "data": {
      "image/png": "[encoded data removed]",
      "text/plain": [
       "<Figure size 432x288 with 1 Axes>"
      ]
     },
     "metadata": {
      "needs_background": "light"
     },
     "output_type": "display_data"
    }
   ],
   "source": [
    "dist_ts_segments = Fitter(ts_lengths[:-1], distributions = \"common\", verbose=False)\n",
    "dist_ts_segments.fit()\n",
    "dist_ts_segments.summary()"
   ]
  },
  {
   "cell_type": "code",
   "execution_count": 16,
   "metadata": {},
   "outputs": [
    {
     "data": {
      "text/plain": [
       "Text(0, 0.5, 'Edge Number')"
      ]
     },
     "execution_count": 16,
     "metadata": {},
     "output_type": "execute_result"
    },
    {
     "data": {
      "image/png": "[encoded data removed]",
      "text/plain": [
       "<Figure size 432x288 with 1 Axes>"
      ]
     },
     "metadata": {
      "needs_background": "light"
     },
     "output_type": "display_data"
    }
   ],
   "source": [
    "plt.scatter(ts_lengths, num_edges)\n",
    "plt.xlabel(\"Length of Specific Terminal Segments (Microns)\")\n",
    "plt.ylabel(\"Edge Number\")"
   ]
  },
  {
   "cell_type": "code",
   "execution_count": 17,
   "metadata": {},
   "outputs": [
    {
     "data": {
      "text/plain": [
       "Text(0.5, 1.0, 'Terminal Segments, Edge Number VS Length, No Outlier')"
      ]
     },
     "execution_count": 17,
     "metadata": {},
     "output_type": "execute_result"
    },
    {
     "data": {
      "image/png": "[encoded data removed]",
      "text/plain": [
       "<Figure size 720x720 with 1 Axes>"
      ]
     },
     "metadata": {
      "needs_background": "light"
     },
     "output_type": "display_data"
    }
   ],
   "source": [
    "plt.figure(figsize=(10,10))\n",
    "plt.scatter(ts_lengths[:-1], num_edges[:-1])\n",
    "plt.xlabel(\"Length of Specific Terminal Segments (Microns)\")\n",
    "plt.ylabel(\"Frequency of Edges\")\n",
    "plt.title(\"Terminal Segments, Edge Number VS Length, No Outlier\")"
   ]
  },
  {
   "cell_type": "code",
   "execution_count": 18,
   "metadata": {},
   "outputs": [
    {
     "data": {
      "image/png": "[encoded data removed]",
      "text/plain": [
       "<Figure size 1080x360 with 1 Axes>"
      ]
     },
     "metadata": {
      "needs_background": "light"
     },
     "output_type": "display_data"
    }
   ],
   "source": [
    "edge_one = [ts_lengths[i] for i, x in enumerate(num_edges) if x == 1]\n",
    "plt.figure(figsize=(15,5))\n",
    "plt.hist(edge_one, bins=500)\n",
    "plt.xlabel(\"Length of TS with Edge Length 1 (Microns)\")\n",
    "plt.ylabel(\"Frequency\");\n",
    "plt.title(\"Terminal Segments, Frequency VS Length, 1 edge\")\n",
    "plt.show()"
   ]
  },
  {
   "cell_type": "markdown",
   "metadata": {},
   "source": [
    "# Distribution of Terminal Segments that do not contain a synapse on end edge"
   ]
  },
  {
   "cell_type": "code",
   "execution_count": 61,
   "metadata": {
    "scrolled": false
   },
   "outputs": [
    {
     "data": {
      "image/png": "[encoded data removed]",
      "text/plain": [
       "<Figure size 1080x864 with 2 Axes>"
      ]
     },
     "metadata": {
      "needs_background": "light"
     },
     "output_type": "display_data"
    }
   ],
   "source": [
    "all_ts = [items for i, items in ts_empty_lengths.items()]\n",
    "short_ts = [items for i, items in ts_empty_lengths.items() if items < 10]\n",
    "\n",
    "fig, ax = plt.subplots(2 ,figsize = (15,12))\n",
    "\n",
    "ax[0].hist(all_ts, bins=750)\n",
    "ax[0].set_xlabel('Length of Terminal Segments (Microns)')\n",
    "ax[0].set_ylabel('Frequency')\n",
    "ax[0].set_title('Terminal Segments No Synapse, Frequency VS Length')\n",
    "\n",
    "ax[1].hist(short_ts, bins=750)\n",
    "ax[1].set_xlabel('Length of Terminal Segments (Microns)')\n",
    "ax[1].set_ylabel('Frequency')\n",
    "ax[1].set_title('Terminal Segments No Synapse < 10 Microns, Frequency VS Length')\n",
    "\n",
    "plt.show()"
   ]
  },
  {
   "cell_type": "markdown",
   "metadata": {},
   "source": [
    "# Visualize Branches"
   ]
  },
  {
   "cell_type": "code",
   "execution_count": null,
   "metadata": {},
   "outputs": [],
   "source": [
    "def get_branch_coords(branch_id):\n",
    "    branch_nodes = segments.loc[segments['branch_id'] == branch_id, ['node_id', 'point_node_id']].values\n",
    "    branch_x = []\n",
    "    branch_y = []\n",
    "    branch_z = []\n",
    "\n",
    "    for node_id, point_node_id in branch_nodes:\n",
    "        coords_1 = node_coords[node_id]\n",
    "        coords_2 = node_coords[point_node_id]\n",
    "        branch_x += [coords_1[0], coords_2[0], np.nan]\n",
    "        branch_y += [coords_1[1], coords_2[1], np.nan]\n",
    "        branch_z += [coords_1[2], coords_2[2], np.nan]\n",
    "    return branch_x, branch_y, branch_z\n",
    "\n",
    "def generate_color():\n",
    "    r = np.random.randint(0, 256)\n",
    "    g = np.random.randint(0, 256)\n",
    "    b = np.random.randint(0, 256)\n",
    "    return f'rgb({r}, {g}, {b})'\n",
    "\n",
    "def get_branches_coords(branch_ids):\n",
    "    branch_xs = []\n",
    "    branch_ys = []\n",
    "    branch_zs = []\n",
    "    colors = []\n",
    "    \n",
    "    for branch_id in branch_ids:\n",
    "        branch_x, branch_y, branch_z = get_branch_coords(branch_id)\n",
    "        color = generate_color()\n",
    "        branch_xs.append(branch_x)\n",
    "        branch_ys.append(branch_y)\n",
    "        branch_zs.append(branch_z)\n",
    "        colors.append(color)\n",
    "    return branch_xs, branch_ys, branch_zs, colors"
   ]
  },
  {
   "cell_type": "code",
   "execution_count": null,
   "metadata": {},
   "outputs": [],
   "source": [
    "def visualize_branches(branche_ids, main_branch=True):\n",
    "    branch_xs, branch_ys, branch_zs, colors = get_branches_coords(branche_ids)\n",
    "    main_x, main_y, main_z = [], [], []\n",
    "    if main_branch:\n",
    "        main_x, main_y, main_z = get_branch_coords(2137)\n",
    "        \n",
    "    ## Scatters for branches\n",
    "    branch_scatters = []\n",
    "    for i in range(len(branch_xs)):\n",
    "        branch_scatters.append(\n",
    "                                go.Scatter3d(x=branch_xs[i], y=branch_ys[i], z=branch_zs[i],\n",
    "                                           mode='lines',\n",
    "                                           hoverinfo='text',\n",
    "                                           hovertext=[],\n",
    "                                           opacity=1,\n",
    "                                           name='segment',\n",
    "                                           line=dict(\n",
    "                                                width=5\n",
    "                                           ),\n",
    "                                           marker=dict(\n",
    "                                                color=colors[i],\n",
    "                                                size=15,\n",
    "                                                opacity=1\n",
    "                                            ))\n",
    "        )\n",
    "        \n",
    "        fig = go.Figure(data=[\n",
    "                          go.Scatter3d(x=soma_x, y=soma_y, z=soma_z,\n",
    "                                       mode='markers',\n",
    "                                       hoverinfo='text',\n",
    "                                       hovertext=[],\n",
    "                                       opacity=1,\n",
    "                                       name='SOMA',\n",
    "                                       marker=dict(\n",
    "                                            color='black',\n",
    "                                            size=4,\n",
    "                                            opacity=1\n",
    "                                        )),\n",
    "                          go.Scatter3d(x=xx, y=yy, z=zz,\n",
    "                                       mode='lines',\n",
    "                                       hoverinfo='text',\n",
    "                                       hovertext=[],\n",
    "                                       opacity=1,\n",
    "                                       name='main',\n",
    "                                       line=dict(\n",
    "                                            width=2\n",
    "                                       ),\n",
    "                                       marker=dict(\n",
    "                                            color='black',\n",
    "                                            size=15,\n",
    "                                            opacity=1\n",
    "                                        )),\n",
    "                          go.Scatter3d(x=main_x, y=main_y, z=main_z,\n",
    "                                       mode='lines',\n",
    "                                       hoverinfo='text',\n",
    "                                       hovertext=[],\n",
    "                                       opacity=1,\n",
    "                                       name='main segment',\n",
    "                                       line=dict(\n",
    "                                            width=5\n",
    "                                       ),\n",
    "                                       marker=dict(\n",
    "                                            color='purple',\n",
    "                                            size=15,\n",
    "                                            opacity=1\n",
    "                                        ))\n",
    "                         ] + branch_scatters + [  # include outlier here\n",
    "                          go.Scatter3d(x=syn_x, y=syn_y, z=syn_z,\n",
    "                                       mode='markers',\n",
    "                                       hoverinfo='text',\n",
    "                                       hovertext=[],\n",
    "                                       opacity=1,\n",
    "                                       name='synapses',\n",
    "                                       line=dict(\n",
    "                                            width=5\n",
    "                                       ),\n",
    "                                       marker=dict(\n",
    "                                            color='red',\n",
    "                                            size=3,\n",
    "                                            opacity=1\n",
    "                                        )),\n",
    "                          go.Scatter3d(x=end_syn_node_x, y=end_syn_node_y, z=end_syn_node_z,\n",
    "                                       mode='markers',\n",
    "                                       hoverinfo='text',\n",
    "                                       hovertext=[],\n",
    "                                       opacity=1,\n",
    "                                       name='synapse on terminal end of ts',\n",
    "                                       line=dict(\n",
    "                                            width=5\n",
    "                                       ),\n",
    "                                       marker=dict(\n",
    "                                            color='blue',\n",
    "                                            size=3,\n",
    "                                            opacity=1\n",
    "                                        ))\n",
    "        \n",
    "        \n",
    "        ])\n",
    "\n",
    "    fig.update_layout(title=\"Segments\",\n",
    "                      showlegend=False,\n",
    "                        scene=dict(\n",
    "                            xaxis=dict(nticks=5, range=[50, 300], showbackground=False, showticklabels=False, title=''),\n",
    "                            yaxis=dict(nticks=13, range=[50, 750], showbackground=False, showticklabels=False, title=''),\n",
    "                            zaxis=dict(nticks=6, range=[50, 350], showbackground=False, showticklabels=False, title=''),\n",
    "                            aspectmode='data'\n",
    "                        ),\n",
    "                        scene_camera=dict(\n",
    "                            eye=dict(x=-0.8, y=-0.8, z=0.05),\n",
    "                            up=dict(x=0, y=0, z=1),\n",
    "                            center=dict(x=0, y=0, z=0)\n",
    "                        )\n",
    "                    )\n",
    "\n",
    "    plotly.offline.plot(fig, auto_open=True)\n",
    "    fig.show()"
   ]
  },
  {
   "cell_type": "code",
   "execution_count": null,
   "metadata": {},
   "outputs": [],
   "source": [
    "branch_ids_sample = segments['branch_id'].unique()[3:4]\n",
    "visualize_branches(branch_ids_sample)"
   ]
  }
 ],
 "metadata": {
  "kernelspec": {
   "display_name": "Python 3",
   "language": "python",
   "name": "python3"
  },
  "language_info": {
   "codemirror_mode": {
    "name": "ipython",
    "version": 3
   },
   "file_extension": ".py",
   "mimetype": "text/x-python",
   "name": "python",
   "nbconvert_exporter": "python",
   "pygments_lexer": "ipython3",
   "version": "3.8.3"
  }
 },
 "nbformat": 4,
 "nbformat_minor": 4
}
